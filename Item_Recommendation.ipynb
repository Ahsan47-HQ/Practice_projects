{
 "cells": [
  {
   "cell_type": "code",
   "execution_count": 1,
   "id": "10547520-0bc3-4d44-8812-f1fc63ddf4f7",
   "metadata": {},
   "outputs": [],
   "source": [
    "import numpy as np\n",
    "import pandas as pd\n",
    "import matplotlib.pyplot as plt\n",
    "import keras"
   ]
  },
  {
   "cell_type": "code",
   "execution_count": 2,
   "id": "f43dbb81-706b-42e0-877d-e654e847b461",
   "metadata": {},
   "outputs": [
    {
     "data": {
      "text/html": [
       "<div>\n",
       "<style scoped>\n",
       "    .dataframe tbody tr th:only-of-type {\n",
       "        vertical-align: middle;\n",
       "    }\n",
       "\n",
       "    .dataframe tbody tr th {\n",
       "        vertical-align: top;\n",
       "    }\n",
       "\n",
       "    .dataframe thead th {\n",
       "        text-align: right;\n",
       "    }\n",
       "</style>\n",
       "<table border=\"1\" class=\"dataframe\">\n",
       "  <thead>\n",
       "    <tr style=\"text-align: right;\">\n",
       "      <th></th>\n",
       "      <th>User_1</th>\n",
       "      <th>User_2</th>\n",
       "      <th>User_3</th>\n",
       "      <th>User_4</th>\n",
       "      <th>User_5</th>\n",
       "      <th>User_6</th>\n",
       "      <th>User_7</th>\n",
       "      <th>User_8</th>\n",
       "      <th>User_9</th>\n",
       "      <th>User_10</th>\n",
       "      <th>...</th>\n",
       "      <th>User_21</th>\n",
       "      <th>User_22</th>\n",
       "      <th>User_23</th>\n",
       "      <th>User_24</th>\n",
       "      <th>User_25</th>\n",
       "      <th>User_26</th>\n",
       "      <th>User_27</th>\n",
       "      <th>User_28</th>\n",
       "      <th>User_29</th>\n",
       "      <th>User_30</th>\n",
       "    </tr>\n",
       "  </thead>\n",
       "  <tbody>\n",
       "    <tr>\n",
       "      <th>Item_1</th>\n",
       "      <td>1.0</td>\n",
       "      <td>4.0</td>\n",
       "      <td>NaN</td>\n",
       "      <td>NaN</td>\n",
       "      <td>NaN</td>\n",
       "      <td>NaN</td>\n",
       "      <td>1.0</td>\n",
       "      <td>NaN</td>\n",
       "      <td>NaN</td>\n",
       "      <td>NaN</td>\n",
       "      <td>...</td>\n",
       "      <td>NaN</td>\n",
       "      <td>NaN</td>\n",
       "      <td>NaN</td>\n",
       "      <td>NaN</td>\n",
       "      <td>NaN</td>\n",
       "      <td>1.0</td>\n",
       "      <td>NaN</td>\n",
       "      <td>1.0</td>\n",
       "      <td>NaN</td>\n",
       "      <td>NaN</td>\n",
       "    </tr>\n",
       "    <tr>\n",
       "      <th>Item_2</th>\n",
       "      <td>1.0</td>\n",
       "      <td>1.0</td>\n",
       "      <td>1.0</td>\n",
       "      <td>1.0</td>\n",
       "      <td>1.0</td>\n",
       "      <td>NaN</td>\n",
       "      <td>NaN</td>\n",
       "      <td>1.0</td>\n",
       "      <td>1.0</td>\n",
       "      <td>NaN</td>\n",
       "      <td>...</td>\n",
       "      <td>NaN</td>\n",
       "      <td>1.0</td>\n",
       "      <td>NaN</td>\n",
       "      <td>NaN</td>\n",
       "      <td>NaN</td>\n",
       "      <td>NaN</td>\n",
       "      <td>1.0</td>\n",
       "      <td>4.0</td>\n",
       "      <td>NaN</td>\n",
       "      <td>1.0</td>\n",
       "    </tr>\n",
       "    <tr>\n",
       "      <th>Item_3</th>\n",
       "      <td>NaN</td>\n",
       "      <td>2.0</td>\n",
       "      <td>1.0</td>\n",
       "      <td>NaN</td>\n",
       "      <td>1.0</td>\n",
       "      <td>1.0</td>\n",
       "      <td>NaN</td>\n",
       "      <td>1.0</td>\n",
       "      <td>1.0</td>\n",
       "      <td>1.0</td>\n",
       "      <td>...</td>\n",
       "      <td>1.0</td>\n",
       "      <td>1.0</td>\n",
       "      <td>NaN</td>\n",
       "      <td>1.0</td>\n",
       "      <td>NaN</td>\n",
       "      <td>1.0</td>\n",
       "      <td>NaN</td>\n",
       "      <td>2.0</td>\n",
       "      <td>1.0</td>\n",
       "      <td>NaN</td>\n",
       "    </tr>\n",
       "    <tr>\n",
       "      <th>Item_4</th>\n",
       "      <td>1.0</td>\n",
       "      <td>1.0</td>\n",
       "      <td>1.0</td>\n",
       "      <td>1.0</td>\n",
       "      <td>1.0</td>\n",
       "      <td>1.0</td>\n",
       "      <td>1.0</td>\n",
       "      <td>1.0</td>\n",
       "      <td>1.0</td>\n",
       "      <td>NaN</td>\n",
       "      <td>...</td>\n",
       "      <td>1.0</td>\n",
       "      <td>NaN</td>\n",
       "      <td>1.0</td>\n",
       "      <td>NaN</td>\n",
       "      <td>NaN</td>\n",
       "      <td>NaN</td>\n",
       "      <td>1.0</td>\n",
       "      <td>NaN</td>\n",
       "      <td>1.0</td>\n",
       "      <td>1.0</td>\n",
       "    </tr>\n",
       "    <tr>\n",
       "      <th>Item_5</th>\n",
       "      <td>NaN</td>\n",
       "      <td>NaN</td>\n",
       "      <td>NaN</td>\n",
       "      <td>3.0</td>\n",
       "      <td>NaN</td>\n",
       "      <td>2.0</td>\n",
       "      <td>NaN</td>\n",
       "      <td>1.0</td>\n",
       "      <td>NaN</td>\n",
       "      <td>NaN</td>\n",
       "      <td>...</td>\n",
       "      <td>NaN</td>\n",
       "      <td>NaN</td>\n",
       "      <td>1.0</td>\n",
       "      <td>NaN</td>\n",
       "      <td>NaN</td>\n",
       "      <td>1.0</td>\n",
       "      <td>5.0</td>\n",
       "      <td>1.0</td>\n",
       "      <td>NaN</td>\n",
       "      <td>NaN</td>\n",
       "    </tr>\n",
       "  </tbody>\n",
       "</table>\n",
       "<p>5 rows × 30 columns</p>\n",
       "</div>"
      ],
      "text/plain": [
       "        User_1  User_2  User_3  User_4  User_5  User_6  User_7  User_8  \\\n",
       "Item_1     1.0     4.0     NaN     NaN     NaN     NaN     1.0     NaN   \n",
       "Item_2     1.0     1.0     1.0     1.0     1.0     NaN     NaN     1.0   \n",
       "Item_3     NaN     2.0     1.0     NaN     1.0     1.0     NaN     1.0   \n",
       "Item_4     1.0     1.0     1.0     1.0     1.0     1.0     1.0     1.0   \n",
       "Item_5     NaN     NaN     NaN     3.0     NaN     2.0     NaN     1.0   \n",
       "\n",
       "        User_9  User_10  ...  User_21  User_22  User_23  User_24  User_25  \\\n",
       "Item_1     NaN      NaN  ...      NaN      NaN      NaN      NaN      NaN   \n",
       "Item_2     1.0      NaN  ...      NaN      1.0      NaN      NaN      NaN   \n",
       "Item_3     1.0      1.0  ...      1.0      1.0      NaN      1.0      NaN   \n",
       "Item_4     1.0      NaN  ...      1.0      NaN      1.0      NaN      NaN   \n",
       "Item_5     NaN      NaN  ...      NaN      NaN      1.0      NaN      NaN   \n",
       "\n",
       "        User_26  User_27  User_28  User_29  User_30  \n",
       "Item_1      1.0      NaN      1.0      NaN      NaN  \n",
       "Item_2      NaN      1.0      4.0      NaN      1.0  \n",
       "Item_3      1.0      NaN      2.0      1.0      NaN  \n",
       "Item_4      NaN      1.0      NaN      1.0      1.0  \n",
       "Item_5      1.0      5.0      1.0      NaN      NaN  \n",
       "\n",
       "[5 rows x 30 columns]"
      ]
     },
     "execution_count": 2,
     "metadata": {},
     "output_type": "execute_result"
    }
   ],
   "source": [
    "# Generate a synthetic dataset with known latent features\n",
    "\n",
    "# True latent features for items (100 items × 3 features)\n",
    "true_item_features = np.random.normal(0, 1, size=(100, 3))\n",
    "\n",
    "# True latent features for users (30 users × 3 features)\n",
    "true_user_prefs = np.random.normal(0, 1, size=(30, 3))\n",
    "\n",
    "# Generate ratings using dot product + noise\n",
    "ratings_complete = true_item_features @ true_user_prefs.T + np.random.normal(0, 0.5, (100, 30))\n",
    "\n",
    "# Clip ratings to the range [1, 5] and round\n",
    "ratings_complete = np.clip(np.round(ratings_complete), 1, 5)\n",
    "\n",
    "# Introduce missing values (50% masked)\n",
    "mask = np.random.rand(*ratings_complete.shape) < 0.5\n",
    "ratings_synthetic = ratings_complete.copy()\n",
    "ratings_synthetic[mask] = np.nan\n",
    "\n",
    "# Create DataFrame\n",
    "items = [f'Item_{i+1}' for i in range(100)]\n",
    "users = [f'User_{j+1}' for j in range(30)]\n",
    "df_synthetic = pd.DataFrame(ratings_synthetic, index=items, columns=users)\n",
    "\n",
    "df_synthetic.head()\n"
   ]
  },
  {
   "cell_type": "code",
   "execution_count": 3,
   "id": "5e8d671b-31cb-44e3-a33c-4840331f004f",
   "metadata": {},
   "outputs": [],
   "source": [
    "# Assume df_synthetic is your DataFrame\n",
    "Y = df_synthetic.fillna(0).values     # Ratings matrix, missing entries as 0\n",
    "R = ~df_synthetic.isna()              # Boolean mask where rating exists\n",
    "R = R.astype(int).values              # Convert True/False to 1/0"
   ]
  },
  {
   "cell_type": "code",
   "execution_count": 4,
   "id": "8b3cbee5-aeeb-4f48-bdfa-5c106b83b881",
   "metadata": {},
   "outputs": [],
   "source": [
    "# X (ndarray (num_movies,num_features)): matrix of item features\n",
    "#       W (ndarray (num_users,num_features)) : matrix of user parameters\n",
    "#       b (ndarray (1, num_users)            : vector of user parameters\n",
    "#       Y (ndarray (num_movies,num_users)    : matrix of user ratings of movies\n",
    "#       R (ndarray (num_movies,num_users)    : matrix, where R(i, j) = 1 if the i-th movies was rated by the j-th user"
   ]
  },
  {
   "cell_type": "code",
   "execution_count": 5,
   "id": "1d17a1c3-186c-4ccb-a104-d2b356374caf",
   "metadata": {},
   "outputs": [
    {
     "data": {
      "text/plain": [
       "(array([[ 1.36404066, -1.6449417 , -1.35133446],\n",
       "        [ 2.00682112, -0.13795994,  1.92882879],\n",
       "        [-0.12926093, -0.11129731,  1.14268219],\n",
       "        [-0.19731742, -1.05901335,  0.60047128],\n",
       "        [-0.1740946 ,  0.32855294,  0.5002973 ]]),\n",
       " array([[ 0.9835061 ,  0.41745832,  0.84354872],\n",
       "        [ 0.9368884 , -1.24933115, -0.81539031],\n",
       "        [-0.86527799,  1.16387673, -1.37226111],\n",
       "        [-2.20498288, -0.38352503,  0.14545706],\n",
       "        [-0.13971188, -0.34962112, -0.85929102]]),\n",
       " array([[ 0.55302874,  0.14160739,  0.83580595, -0.64256201, -0.31695526]]))"
      ]
     },
     "execution_count": 5,
     "metadata": {},
     "output_type": "execute_result"
    }
   ],
   "source": [
    "# Parameters\n",
    "num_movies = 100\n",
    "num_users = 30\n",
    "num_features = 3\n",
    "\n",
    "# Generate item features matrix X: (100 items × 3 features)\n",
    "X = np.random.normal(0, 1, size=(num_movies, num_features))\n",
    "\n",
    "# Generate user parameters matrix W: (30 users × 3 features)\n",
    "W = np.random.normal(0, 1, size=(num_users, num_features))\n",
    "\n",
    "# Generate user bias vector b: (1 × 30 users)\n",
    "b = np.random.normal(0, 0.5, size=(1, num_users))\n",
    "\n",
    "X[:5], W[:5], b[:, :5]  # Show first 5 rows/users for each"
   ]
  },
  {
   "cell_type": "code",
   "execution_count": 6,
   "id": "6ea4b095-3123-4397-9085-e5e2f0b751b8",
   "metadata": {},
   "outputs": [],
   "source": [
    "nm,nu = Y.shape\n",
    "_,n=X.shape"
   ]
  },
  {
   "cell_type": "code",
   "execution_count": 7,
   "id": "0e316f29-e4bd-428c-91f3-56b4d42f7021",
   "metadata": {},
   "outputs": [
    {
     "name": "stdout",
     "output_type": "stream",
     "text": [
      "shape of X (100, 3)\n",
      "shape of W (30, 3)\n",
      "shape of b (1, 30)\n",
      "shape of Y (100, 30)\n",
      "shape of R (100, 30)\n"
     ]
    }
   ],
   "source": [
    "print(\"shape of X\",X.shape)\n",
    "print(\"shape of W\",W.shape)\n",
    "print(\"shape of b\",b.shape)\n",
    "print(\"shape of Y\",Y.shape)\n",
    "print(\"shape of R\",R.shape)"
   ]
  },
  {
   "cell_type": "code",
   "execution_count": 8,
   "id": "4329410d-0775-4e27-96e0-55d81bb65cc6",
   "metadata": {},
   "outputs": [],
   "source": [
    "# def cofi_cost_func(X, W, b, Y, R, lambda_):\n",
    "#     \"\"\"\n",
    "#     Returns the cost for the collaborative-based filtering\n",
    "#     Args:\n",
    "#       X (ndarray (num_movies,num_features)): matrix of item features\n",
    "#       W (ndarray (num_users,num_features)) : matrix of user parameters\n",
    "#       b (ndarray (1, num_users)            : vector of user parameters\n",
    "#       Y (ndarray (num_movies,num_users)    : matrix of user ratings of movies\n",
    "#       R (ndarray (num_movies,num_users)    : matrix, where R(i, j) = 1 if the i-th movies was rated by the j-th user\n",
    "#       lambda_ (float): regularization parameter\n",
    "#     Returns:\n",
    "#       J (float) : Cost\n",
    "#     \"\"\"\n",
    "#     nm, nu = Y.shape\n",
    "#     J = 0 \n",
    "#     cwr=0.\n",
    "#     fwb= (X@W.T)+b\n",
    "#     cwr+= R*(fwb-Y)**2\n",
    "#     cwr = np.sum(cwr)\n",
    "#     cwr/=2\n",
    "#     regc = 0.\n",
    "#     n = X.shape[1]\n",
    "#     for i in range(nm):\n",
    "#         for k in range(n):\n",
    "#             regc+= X[i,k]**2\n",
    "#     for j in range(nu):\n",
    "#         for k in range(n):\n",
    "#             regc += W[j,k]**2\n",
    "#     regc = regc*(lambda_/2)\n",
    "#     J = cwr+regc\n",
    "    \n",
    "#     return J"
   ]
  },
  {
   "cell_type": "code",
   "execution_count": 9,
   "id": "b7477e50-be3b-4ad0-a2f7-4dbf81ace689",
   "metadata": {},
   "outputs": [],
   "source": [
    "def cofi_cost_func(X,W,b,Y,R,lambda_):\n",
    "    j = (tf.linalg.matmul(X, tf.transpose(W)) + b - Y)*R\n",
    "    J = 0.5 * tf.reduce_sum(j**2) + (lambda_/2) * (tf.reduce_sum(X**2) + tf.reduce_sum(W**2))\n",
    "    return J"
   ]
  },
  {
   "cell_type": "code",
   "execution_count": 10,
   "id": "31a76ebb-f17b-427c-bc50-13edb8cf0fe6",
   "metadata": {},
   "outputs": [],
   "source": [
    "Y_mean = np.mean(Y)\n",
    "Y_norm = Y - Y_mean"
   ]
  },
  {
   "cell_type": "code",
   "execution_count": 11,
   "id": "63500dfc-49d5-40fd-9279-42e3e144c217",
   "metadata": {},
   "outputs": [
    {
     "data": {
      "text/plain": [
       "array([[ 0.36566667,  3.36566667, -0.63433333, -0.63433333, -0.63433333,\n",
       "        -0.63433333,  0.36566667, -0.63433333, -0.63433333, -0.63433333,\n",
       "        -0.63433333,  0.36566667,  1.36566667,  1.36566667, -0.63433333,\n",
       "        -0.63433333,  0.36566667, -0.63433333, -0.63433333,  0.36566667,\n",
       "        -0.63433333, -0.63433333, -0.63433333, -0.63433333, -0.63433333,\n",
       "         0.36566667, -0.63433333,  0.36566667, -0.63433333, -0.63433333],\n",
       "       [ 0.36566667,  0.36566667,  0.36566667,  0.36566667,  0.36566667,\n",
       "        -0.63433333, -0.63433333,  0.36566667,  0.36566667, -0.63433333,\n",
       "        -0.63433333, -0.63433333, -0.63433333, -0.63433333, -0.63433333,\n",
       "         0.36566667, -0.63433333, -0.63433333,  0.36566667,  0.36566667,\n",
       "        -0.63433333,  0.36566667, -0.63433333, -0.63433333, -0.63433333,\n",
       "        -0.63433333,  0.36566667,  3.36566667, -0.63433333,  0.36566667]])"
      ]
     },
     "execution_count": 11,
     "metadata": {},
     "output_type": "execute_result"
    }
   ],
   "source": [
    "Y_norm[:2]"
   ]
  },
  {
   "cell_type": "code",
   "execution_count": 12,
   "id": "665e65b4-2d16-4c0f-ab82-1780abbb245d",
   "metadata": {},
   "outputs": [],
   "source": [
    "import tensorflow as tf"
   ]
  },
  {
   "cell_type": "code",
   "execution_count": 13,
   "id": "45e0b89b-de3f-4abf-8ce4-07cf5ac64965",
   "metadata": {},
   "outputs": [],
   "source": [
    "num_movies, num_users = Y.shape\n",
    "num_features = 100\n",
    "\n",
    "# Set Initial Parameters (W, X), use tf.Variable to track these variables\n",
    "tf.random.set_seed(1234) # for consistent results\n",
    "W = tf.Variable(tf.random.normal((num_users,  num_features),dtype=tf.float64),  name='W')\n",
    "X = tf.Variable(tf.random.normal((num_movies, num_features),dtype=tf.float64),  name='X')\n",
    "b = tf.Variable(tf.random.normal((1,          num_users),   dtype=tf.float64),  name='b')\n",
    "\n",
    "# Instantiate an optimizer.\n",
    "optimizer = keras.optimizers.Adam(learning_rate=1e-1)"
   ]
  },
  {
   "cell_type": "code",
   "execution_count": 14,
   "id": "8f8f7ae6-5e54-4b3e-b3e4-c3eed0f8aad3",
   "metadata": {},
   "outputs": [
    {
     "name": "stdout",
     "output_type": "stream",
     "text": [
      "Training loss at iteration 0: 86880.7\n",
      "Training loss at iteration 2: 21051.0\n",
      "Training loss at iteration 4: 10976.1\n",
      "Training loss at iteration 6: 14357.1\n",
      "Training loss at iteration 8: 14660.1\n",
      "Training loss at iteration 10: 11905.9\n",
      "Training loss at iteration 12: 8984.9\n",
      "Training loss at iteration 14: 7141.3\n",
      "Training loss at iteration 16: 6274.6\n",
      "Training loss at iteration 18: 5858.1\n",
      "Training loss at iteration 20: 5499.9\n",
      "Training loss at iteration 22: 5082.8\n",
      "Training loss at iteration 24: 4640.2\n",
      "Training loss at iteration 26: 4219.4\n",
      "Training loss at iteration 28: 3840.5\n",
      "Training loss at iteration 30: 3504.8\n",
      "Training loss at iteration 32: 3208.1\n",
      "Training loss at iteration 34: 2947.0\n",
      "Training loss at iteration 36: 2718.3\n",
      "Training loss at iteration 38: 2518.2\n",
      "Training loss at iteration 40: 2341.0\n",
      "Training loss at iteration 42: 2181.2\n",
      "Training loss at iteration 44: 2034.5\n",
      "Training loss at iteration 46: 1898.7\n",
      "Training loss at iteration 48: 1772.4\n",
      "Training loss at iteration 50: 1655.0\n",
      "Training loss at iteration 52: 1546.6\n",
      "Training loss at iteration 54: 1447.0\n",
      "Training loss at iteration 56: 1356.0\n",
      "Training loss at iteration 58: 1272.9\n",
      "Training loss at iteration 60: 1196.8\n",
      "Training loss at iteration 62: 1126.8\n",
      "Training loss at iteration 64: 1062.3\n",
      "Training loss at iteration 66: 1002.4\n",
      "Training loss at iteration 68: 946.8\n",
      "Training loss at iteration 70: 894.9\n",
      "Training loss at iteration 72: 846.6\n",
      "Training loss at iteration 74: 801.6\n",
      "Training loss at iteration 76: 759.7\n",
      "Training loss at iteration 78: 720.5\n",
      "Training loss at iteration 80: 684.0\n",
      "Training loss at iteration 82: 649.9\n",
      "Training loss at iteration 84: 618.1\n",
      "Training loss at iteration 86: 588.2\n",
      "Training loss at iteration 88: 560.3\n",
      "Training loss at iteration 90: 534.1\n",
      "Training loss at iteration 92: 509.6\n",
      "Training loss at iteration 94: 486.6\n",
      "Training loss at iteration 96: 465.0\n",
      "Training loss at iteration 98: 444.7\n"
     ]
    }
   ],
   "source": [
    "iterations = 100\n",
    "lambda_ = 1.3\n",
    "for iter in range(iterations):\n",
    "    with tf.GradientTape() as tape:\n",
    "        cost_value = cofi_cost_func(X, W, b, Y_norm, R, lambda_)\n",
    "    grads = tape.gradient( cost_value, [X,W,b] )\n",
    "    optimizer.apply_gradients( zip(grads, [X,W,b]) )\n",
    "\n",
    "    if iter % 2 == 0:\n",
    "        print(f\"Training loss at iteration {iter}: {cost_value:0.1f}\")"
   ]
  },
  {
   "cell_type": "code",
   "execution_count": 15,
   "id": "8bd26a5e-b957-429a-99fb-eb7ee0e97498",
   "metadata": {},
   "outputs": [],
   "source": [
    "# The parameters X,W,b have been updated"
   ]
  },
  {
   "cell_type": "code",
   "execution_count": 16,
   "id": "aaf86d12-1507-4cf2-9e06-dcaf6290b8f8",
   "metadata": {},
   "outputs": [],
   "source": [
    "Y_pred = np.matmul(X.numpy(), np.transpose(W.numpy())) + b.numpy()"
   ]
  },
  {
   "cell_type": "code",
   "execution_count": 17,
   "id": "561a2726-5a53-4ea4-83e9-238052f8e404",
   "metadata": {},
   "outputs": [],
   "source": [
    "# Now for a particular user, let's recommend some movies that have not been viewed by the user before.\n",
    "# Say, for this example, User_11"
   ]
  },
  {
   "cell_type": "code",
   "execution_count": 18,
   "id": "256724e0-4eec-4e7d-87c0-1d4c0309bc40",
   "metadata": {},
   "outputs": [],
   "source": [
    "user_ratings = Y_pred[:, 10]  # All items predicted for that user"
   ]
  },
  {
   "cell_type": "code",
   "execution_count": 19,
   "id": "82fe4e6c-ba76-4fb7-be3e-da045ee61a40",
   "metadata": {},
   "outputs": [],
   "source": [
    "rated_items = R[:, 10]  # 1 if rated, 0 if not\n",
    "unrated_mask = (rated_items == 0) # Creates a boolean mask\n",
    "user_ratings_unrated = user_ratings * unrated_mask"
   ]
  },
  {
   "cell_type": "code",
   "execution_count": 20,
   "id": "2e90e7f8-f966-4fac-b915-375bde42033d",
   "metadata": {},
   "outputs": [
    {
     "data": {
      "text/plain": [
       "array([ 0.64523299,  0.93685497,  0.        ,  0.08622737,  0.59066869,\n",
       "        0.        ,  0.38252891, -0.1946545 ,  0.09601293,  0.        ,\n",
       "        0.        , -0.70355566,  0.        ,  0.03035576,  0.39300218,\n",
       "        0.00179022,  0.15611033,  0.13834581,  0.47094418,  0.12830341,\n",
       "        0.        ,  0.        ,  1.40758511,  1.34367052,  0.        ,\n",
       "       -0.26570377,  0.        ,  0.16992478,  0.52972537,  0.        ,\n",
       "        0.49955513,  0.85312439,  0.        ,  0.22568738, -0.06832369,\n",
       "        0.        ,  0.        ,  0.16453662,  0.69118464,  0.        ,\n",
       "        0.        ,  0.36965178,  0.        , -1.25046852,  0.        ,\n",
       "        0.18092272,  0.82818564, -0.19215911,  0.        ,  0.44563966,\n",
       "        0.        ,  0.        ,  0.38333193,  0.        , -0.63260302,\n",
       "        0.        ,  0.        , -0.26659355,  0.        ,  0.97590114,\n",
       "        0.        ,  0.        ,  0.        ,  0.07416   ,  0.99779805,\n",
       "        0.19583165,  0.        ,  0.        ,  0.47827481,  0.        ,\n",
       "       -0.30056098,  0.        ,  0.        ,  0.        ,  0.        ,\n",
       "        0.        ,  0.48863505,  0.        ,  0.        , -0.21048439,\n",
       "        0.29255318,  0.        ,  0.        ,  0.        ,  0.52434619,\n",
       "       -0.01162927,  0.        ,  0.27122783,  0.08905977,  0.        ,\n",
       "        0.46748732,  0.01909374,  0.        ,  0.        ,  0.52982701,\n",
       "        0.        ,  0.        ,  0.        ,  0.        , -0.19233001])"
      ]
     },
     "execution_count": 20,
     "metadata": {},
     "output_type": "execute_result"
    }
   ],
   "source": [
    "user_ratings_unrated"
   ]
  },
  {
   "cell_type": "code",
   "execution_count": 21,
   "id": "c3914966-cffc-4cd3-972f-67ddd67079b9",
   "metadata": {},
   "outputs": [],
   "source": [
    "items = np.array([f'Item_{i+1}' for i in range(Y.shape[0])])"
   ]
  },
  {
   "cell_type": "code",
   "execution_count": 22,
   "id": "efdc3ecf-e1c8-4f34-b92d-ea5e5b94b2f4",
   "metadata": {},
   "outputs": [],
   "source": [
    "top_k = 15"
   ]
  },
  {
   "cell_type": "code",
   "execution_count": 23,
   "id": "e76b0ff7-ae5f-4119-a735-106b12b9fb4a",
   "metadata": {},
   "outputs": [],
   "source": [
    "recommended_indices = np.argsort(user_ratings_unrated)[::-1][:top_k]\n",
    "recommended_items = items[recommended_indices]"
   ]
  },
  {
   "cell_type": "code",
   "execution_count": 24,
   "id": "b2aecad0-f031-440b-9c54-9cd045557436",
   "metadata": {},
   "outputs": [
    {
     "name": "stdout",
     "output_type": "stream",
     "text": [
      "Choice 1 :  Item_23\n",
      "Choice 2 :  Item_24\n",
      "Choice 3 :  Item_65\n",
      "Choice 4 :  Item_60\n",
      "Choice 5 :  Item_2\n",
      "Choice 6 :  Item_32\n",
      "Choice 7 :  Item_47\n",
      "Choice 8 :  Item_39\n",
      "Choice 9 :  Item_1\n",
      "Choice 10 :  Item_5\n",
      "Choice 11 :  Item_95\n",
      "Choice 12 :  Item_29\n",
      "Choice 13 :  Item_85\n",
      "Choice 14 :  Item_31\n",
      "Choice 15 :  Item_77\n"
     ]
    }
   ],
   "source": [
    "for i,item in enumerate(recommended_items):\n",
    "    print(\"Choice\",i+1,\": \",item)"
   ]
  },
  {
   "cell_type": "code",
   "execution_count": null,
   "id": "72ef648a-e591-4850-9282-8551101e6e70",
   "metadata": {},
   "outputs": [],
   "source": []
  }
 ],
 "metadata": {
  "kernelspec": {
   "display_name": "Python [conda env:tfenv]",
   "language": "python",
   "name": "conda-env-tfenv-py"
  },
  "language_info": {
   "codemirror_mode": {
    "name": "ipython",
    "version": 3
   },
   "file_extension": ".py",
   "mimetype": "text/x-python",
   "name": "python",
   "nbconvert_exporter": "python",
   "pygments_lexer": "ipython3",
   "version": "3.10.16"
  }
 },
 "nbformat": 4,
 "nbformat_minor": 5
}
